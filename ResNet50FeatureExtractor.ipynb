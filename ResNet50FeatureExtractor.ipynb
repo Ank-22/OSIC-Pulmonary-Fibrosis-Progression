{
  "nbformat": 4,
  "nbformat_minor": 0,
  "metadata": {
    "colab": {
      "name": "ResNet50FeatureExtractor.ipynb",
      "provenance": []
    },
    "kernelspec": {
      "name": "python3",
      "display_name": "Python 3"
    }
  },
  "cells": [
    {
      "cell_type": "code",
      "metadata": {
        "id": "BSzioAxtqzg_",
        "colab_type": "code",
        "colab": {}
      },
      "source": [
        "#from tensorflow.keras.applications import ResNet50\n",
        "from keras.applications.resnet50 import ResNet50\n",
        "from keras.applications.resnet50 import preprocess_input\n",
        "from tensorflow.keras.preprocessing import image\n",
        "from numpy.linalg import norm\n",
        "import numpy as np\n",
        "input_shape = (224, 224, 3)\n",
        "\n",
        "model = ResNet50(weights='imagenet', include_top=False,input_shape=(224, 224, 3))\n",
        "def extract_features(img_path):\n",
        "    \n",
        "    img = image.load_img(img_path,\n",
        "                         target_size=(input_shape[0], input_shape[1]))\n",
        "    img_array = image.img_to_array(img)\n",
        "    expanded_img_array = np.expand_dims(img_array, axis=0)\n",
        "    preprocessed_img = preprocess_input(expanded_img_array)\n",
        "    features = model.predict(preprocessed_img)\n",
        "    flattened_features = features.flatten()\n",
        "    normalized_features = flattened_features / norm(flattened_features)\n",
        "    return normalized_features"
      ],
      "execution_count": null,
      "outputs": []
    },
    {
      "cell_type": "code",
      "metadata": {
        "id": "jrNbZqQMrRKX",
        "colab_type": "code",
        "colab": {}
      },
      "source": [
        "from keras.applications.resnet50 import ResNet50\n",
        "from keras.applications.resnet50 import preprocess_input\n",
        "from imutils import paths\n",
        "import progressbar\n",
        "\n",
        "imagePaths = list(paths.list_images(\"/content/drive/My Drive/curated/curated\"))\n",
        "imagePaths = imagePaths[12000:13000]\n",
        "\n",
        "widgets = [\"Extracting Features: \", progressbar.Percentage(), \" \", progressbar.Bar(), \" \", progressbar.ETA()]\n",
        "pbar = progressbar.ProgressBar(maxval=len(imagePaths), widgets=widgets).start()\n",
        "\n",
        "features = []\n",
        "for (i, imagePath) in enumerate(imagePaths):\n",
        "    features.append(extract_features(imagePath))\n",
        "    pbar.update(i)\n",
        "\n",
        "pbar.finish()\n",
        "features_array = np.array(features)\n",
        "print(\"[INFO] Features Shape Is {}\".format(features_array.shape))"
      ],
      "execution_count": null,
      "outputs": []
    }
  ]
}