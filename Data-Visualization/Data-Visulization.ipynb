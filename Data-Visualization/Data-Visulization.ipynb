{
 "cells": [
  {
   "cell_type": "markdown",
   "metadata": {},
   "source": [
    "## Data-visulization\n",
    "\n",
    "This Notebook is made to understand the given data and analyze the given data, Therefore will help for train and planing various Data Preprocessing On it.\n",
    "\n",
    "#### Dataset\n",
    "\n",
    "Visulization will be done on the ```train.csv```     + There will be a display for the Image file given with it."
   ]
  },
  {
   "cell_type": "markdown",
   "metadata": {},
   "source": [
    "#### Data description\n",
    "We have seen the details of the disease ```(Topic-info/Topic.MD)``` and what competition expects us to do, let's see the description of the data and what we need to do about it.\n",
    "\n",
    "As we understand from the problem statement of the competition, our job is to make prognosis easier for the patients. We are provided with a baseline chest CT scan and associated clinical information for a set of patients. A patient has an image acquired at time Week = 0 and has numerous follow up visits over the course of approximately 1-2 years, at which time their FVC is measured.\n",
    "\n",
    "Lung function is assessed based on output from a spirometer, which measures the forced vital capacity (FVC), i.e. the volume of air exhaled.\n",
    "\n",
    "Train: We are provided with an anonymized, baseline CT scan and the entire history of FVC measurements.\n",
    "\n",
    "Test: We are provided with a baseline CT scan and only the initial FVC measurement. You are asked to predict the final three FVC measurements for each patient, as well as a confidence value in your prediction."
   ]
  },
  {
   "cell_type": "code",
   "execution_count": 3,
   "metadata": {},
   "outputs": [],
   "source": [
    "import os\n",
    "import pandas as pd\n",
    "import numpy as np\n",
    "import seaborn as sb\n",
    "import pydicom as dcm \n",
    "import glob"
   ]
  },
  {
   "cell_type": "code",
   "execution_count": null,
   "metadata": {},
   "outputs": [],
   "source": []
  }
 ],
 "metadata": {
  "kernelspec": {
   "display_name": "Python 3",
   "language": "python",
   "name": "python3"
  },
  "language_info": {
   "codemirror_mode": {
    "name": "ipython",
    "version": 3
   },
   "file_extension": ".py",
   "mimetype": "text/x-python",
   "name": "python",
   "nbconvert_exporter": "python",
   "pygments_lexer": "ipython3",
   "version": "3.8.2"
  }
 },
 "nbformat": 4,
 "nbformat_minor": 4
}
